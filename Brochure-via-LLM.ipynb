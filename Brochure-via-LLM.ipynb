{
 "cells": [
  {
   "cell_type": "code",
   "execution_count": 11,
   "id": "d3528668-61c0-4fa9-9de8-d7604f4194f0",
   "metadata": {},
   "outputs": [],
   "source": [
    "# https://github.com/eiliaJafari"
   ]
  },
  {
   "cell_type": "code",
   "execution_count": 1,
   "id": "6bbbea50-6626-4672-b2a7-381978a511d9",
   "metadata": {},
   "outputs": [],
   "source": [
    "# Imports: Web scraping, API calls, environment loading, UI rendering, and LLM integration\n",
    "import re\n",
    "import os\n",
    "import requests\n",
    "import json\n",
    "from dotenv import load_dotenv\n",
    "from bs4 import BeautifulSoup\n",
    "from IPython.display import Markdown, display\n",
    "from openai import OpenAI\n",
    "import gradio as gr\n",
    "import ollama"
   ]
  },
  {
   "cell_type": "code",
   "execution_count": 2,
   "id": "f172d0ac-f3f9-4b32-9c1e-8dfebb5878f6",
   "metadata": {},
   "outputs": [],
   "source": [
    "# Load environment variables from .env file (OpenAI API key)\n",
    "load_dotenv(override=True)\n",
    "api_key = os.getenv('OPENAI_API_KEY')\n",
    "\n",
    "GPT_MODEL = 'gpt-4o-mini'\n",
    "openai = OpenAI()\n",
    "\n",
    "OLLAMA_MODEL = \"llama3.2\"\n",
    "OLLAMA_URL = \"http://localhost:11434/api/chat\""
   ]
  },
  {
   "cell_type": "code",
   "execution_count": 3,
   "id": "5e3df7d5-5aa0-4796-bb01-4d76df1b9c0d",
   "metadata": {},
   "outputs": [],
   "source": [
    "# Use common headers to avoid being blocked by some websites\n",
    "headers = {\n",
    " \"User-Agent\": \"Mozilla/5.0 (Windows NT 10.0; Win64; x64) AppleWebKit/537.36 (KHTML, like Gecko) Chrome/117.0.0.0 Safari/537.36\"\n",
    "}\n",
    "\n",
    "# Represents a scraped website, containing cleaned text and all hyperlinks\n",
    "class Website:\n",
    "    \"\"\"\n",
    "    A utility class to represent a Website that we have scraped, now with links\n",
    "    \"\"\"\n",
    "\n",
    "    def __init__(self, url):\n",
    "        self.url = url\n",
    "        response = requests.get(url, headers=headers)\n",
    "        self.body = response.content\n",
    "        soup = BeautifulSoup(self.body, 'html.parser')\n",
    "        self.title = soup.title.string if soup.title else \"No title found\"\n",
    "        # Remove irrelevant elements before extracting text\n",
    "        if soup.body:\n",
    "            for irrelevant in soup.body([\"script\", \"style\", \"img\", \"input\"]):\n",
    "                irrelevant.decompose()\n",
    "            self.text = soup.body.get_text(separator=\"\\n\", strip=True)\n",
    "        else:\n",
    "            self.text = \"\"\n",
    "        # Extract all href links (absolute or relative)\n",
    "        links = [link.get('href') for link in soup.find_all('a')]\n",
    "        self.links = [link for link in links if link]\n",
    "\n",
    "    def get_contents(self):\n",
    "        return f\"Webpage Title:\\n{self.title}\\nWebpage Contents:\\n{self.text}\\n\\n\""
   ]
  },
  {
   "cell_type": "code",
   "execution_count": 4,
   "id": "82b189bb-56fe-4e3b-ae24-e3aec5346713",
   "metadata": {},
   "outputs": [],
   "source": [
    "# Prompt used to guide the LLM to extract meaningful internal links from the company homepage\n",
    "link_system_prompt = \"You are provided with a list of links found on a webpage. \\\n",
    "You are able to decide which of the links would be most relevant to include in a brochure about the company, \\\n",
    "such as links to an About page, or a Company page, or Careers/Jobs pages.\\n\"\n",
    "link_system_prompt += \"You should respond in JSON as in this example:\"\n",
    "link_system_prompt += \"\"\"\n",
    "{\n",
    "    \"links\": [\n",
    "        {\"type\": \"about page\", \"url\": \"https://full.url/goes/here/about\"},\n",
    "        {\"type\": \"careers page\", \"url\": \"https://another.full.url/careers\"}\n",
    "    ]\n",
    "}\n",
    "\"\"\"\n",
    "\n",
    "# Generates a user prompt listing all links found on the website\n",
    "def get_links_user_prompt(website):\n",
    "    user_prompt = f\"Here is the list of links on the website of {website.url} - \"\n",
    "    user_prompt += \"please decide which of these are relevant web links for a brochure about the company, respond with the full https URL in JSON format. \\\n",
    "Do not include Terms of Service, Privacy, email links.\\n\"\n",
    "    user_prompt += \"Links (some might be relative links):\\n\"\n",
    "    user_prompt += \"\\n\".join(website.links)\n",
    "    return user_prompt"
   ]
  },
  {
   "cell_type": "code",
   "execution_count": 5,
   "id": "f414db04-8187-4660-8d18-27900d8d2974",
   "metadata": {},
   "outputs": [],
   "source": [
    "# Uses Ollama to extract relevant links from the company's website\n",
    "def get_links_ollama(url):\n",
    "    website = Website(url)\n",
    "    payload = {\n",
    "        \"model\": OLLAMA_MODEL,\n",
    "        \"messages\": [\n",
    "            {\"role\": \"system\", \"content\": link_system_prompt},\n",
    "            {\"role\": \"user\", \"content\": get_links_user_prompt(website)}\n",
    "        ],\n",
    "        \"stream\": False\n",
    "    }\n",
    "\n",
    "    try:\n",
    "        response = requests.post(OLLAMA_URL, json=payload)\n",
    "        response.raise_for_status()\n",
    "        result_text = response.json()[\"message\"][\"content\"]\n",
    "    except Exception as e:\n",
    "        print(\"Error during Ollama request:\", e)\n",
    "        return {}\n",
    "\n",
    "    # Parse and clean LLM response (extract JSON block only)\n",
    "    match = re.search(r'\\{\\s*\"links\"\\s*:\\s*\\[.*?\\]\\s*\\}', result_text, re.DOTALL)\n",
    "    if match:\n",
    "        json_str = match.group(0)\n",
    "        try:\n",
    "            result_json = json.loads(json_str)\n",
    "        except json.JSONDecodeError:\n",
    "            print(\"Failed to decode JSON block:\")\n",
    "            print(json_str)\n",
    "            return {}\n",
    "    else:\n",
    "        print(\"No valid JSON found in Ollama output:\")\n",
    "        print(result_text)\n",
    "        return {}\n",
    "\n",
    "    return result_json\n",
    "\n",
    "# Uses OpenAI GPT model to extract relevant links from the company's website\n",
    "def get_links_gpt(url):\n",
    "    website = Website(url)\n",
    "    response = openai.chat.completions.create(\n",
    "        model=GPT_MODEL,\n",
    "        messages=[\n",
    "            {\"role\": \"system\", \"content\": link_system_prompt},\n",
    "            {\"role\": \"user\", \"content\": get_links_user_prompt(website)}\n",
    "      ],\n",
    "        response_format={\"type\": \"json_object\"}\n",
    "    )\n",
    "    result = response.choices[0].message.content\n",
    "    return json.loads(result)"
   ]
  },
  {
   "cell_type": "code",
   "execution_count": 6,
   "id": "8ce662c3-b048-4912-a319-8ea1ccbb9b78",
   "metadata": {},
   "outputs": [],
   "source": [
    "# Aggregates content from the main page and selected subpages (About, Careers, etc.)\n",
    "def get_all_details(url, get_links_func):\n",
    "    result = \"Landing page:\\n\"\n",
    "    result += Website(url).get_contents()\n",
    "    links = get_links_func(url)\n",
    "\n",
    "    if not links or \"links\" not in links:\n",
    "        result += \"\\n\\n[No additional relevant links found or failed to extract JSON]\\n\"\n",
    "        return result\n",
    "    # Append contents of each relevant linked page\n",
    "    for link in links.get(\"links\", []):\n",
    "        result += f\"\\n\\n{link.get('type', 'Unknown')}\\n\"\n",
    "        result += Website(link[\"url\"]).get_contents()\n",
    "\n",
    "    return result"
   ]
  },
  {
   "cell_type": "code",
   "execution_count": 7,
   "id": "ca7bd959-bd52-4200-ad3d-a85e5a386fff",
   "metadata": {},
   "outputs": [],
   "source": [
    "# Prompt to guide brochure generation – focuses on company storytelling\n",
    "system_prompt = \"You are an assistant that analyzes the contents of several relevant pages from a company website \\\n",
    "and creates a short brochure about the company for prospective customers, investors and recruits. Respond in markdown.\\\n",
    "Include details of company culture, customers and careers/jobs if you have the information. Also make the relevant links, hyperlinks.\"\n",
    "\n",
    "# Builds a user prompt with detailed company info (landing + subpages), used for brochure creation\n",
    "def get_brochure_user_prompt(company_name, url, model):\n",
    "    user_prompt = f\"You are looking at a company called: {company_name}\\n\"\n",
    "    user_prompt += f\"Here are the contents of its landing page and other relevant pages; use this information to build a short brochure of the company in markdown.\\n\"\n",
    "    if model == \"GPT\":\n",
    "        user_prompt += get_all_details(url, get_links_gpt)\n",
    "    elif model == \"OLLAMA\":\n",
    "        user_prompt += get_all_details(url, get_links_ollama)\n",
    "    \n",
    "    # Truncate if the message exceeds 5000 characters to avoid LLM overload\n",
    "    user_prompt = user_prompt[:5_000]\n",
    "    return user_prompt"
   ]
  },
  {
   "cell_type": "code",
   "execution_count": 8,
   "id": "32d867ae-0df6-4ae1-8a9f-8f60bcc4170a",
   "metadata": {},
   "outputs": [],
   "source": [
    "# Calls the selected LLM backend (GPT or Ollama) to generate the brochure content\n",
    "def create_brochure(company_name, url, provider):\n",
    "    messages = [\n",
    "        {\"role\": \"system\", \"content\": system_prompt},\n",
    "        {\"role\": \"user\", \"content\": get_brochure_user_prompt(company_name, url, provider)}\n",
    "    ]\n",
    "\n",
    "    if provider == \"GPT\":\n",
    "        response = openai.chat.completions.create(\n",
    "            model=GPT_MODEL,\n",
    "            messages=messages\n",
    "        )\n",
    "        result = response.choices[0].message.content\n",
    "\n",
    "    elif provider == \"OLLAMA\":\n",
    "        response = ollama.chat(\n",
    "            model=OLLAMA_MODEL,\n",
    "            messages=messages\n",
    "        )\n",
    "        result = response['message']['content']\n",
    "    \n",
    "    else:\n",
    "        print(\"Invalid model\")\n",
    "    \n",
    "    return result\n"
   ]
  },
  {
   "cell_type": "code",
   "execution_count": 9,
   "id": "c9a51a97-444e-437a-b056-346e060d1f1e",
   "metadata": {},
   "outputs": [],
   "source": [
    "# Wrapper function used by Gradio interface\n",
    "def brochure(company_name, url, model):\n",
    "    if model==\"GPT\":\n",
    "        result = create_brochure(company_name, url, \"GPT\")\n",
    "    elif model==\"OLLAMA\":\n",
    "        result = create_brochure(company_name, url, \"OLLAMA\")\n",
    "    else:\n",
    "        raise ValueError(\"Unknown model\")\n",
    "    return result"
   ]
  },
  {
   "cell_type": "code",
   "execution_count": 10,
   "id": "62ffb1f6-6629-4cac-b681-dcb92eeef169",
   "metadata": {},
   "outputs": [
    {
     "name": "stdout",
     "output_type": "stream",
     "text": [
      "* Running on local URL:  http://127.0.0.1:7874\n",
      "* To create a public link, set `share=True` in `launch()`.\n"
     ]
    },
    {
     "data": {
      "text/html": [
       "<div><iframe src=\"http://127.0.0.1:7874/\" width=\"100%\" height=\"500\" allow=\"autoplay; camera; microphone; clipboard-read; clipboard-write;\" frameborder=\"0\" allowfullscreen></iframe></div>"
      ],
      "text/plain": [
       "<IPython.core.display.HTML object>"
      ]
     },
     "metadata": {},
     "output_type": "display_data"
    },
    {
     "data": {
      "text/plain": []
     },
     "execution_count": 10,
     "metadata": {},
     "output_type": "execute_result"
    }
   ],
   "source": [
    "# Gradio UI: Accepts company name, URL, and LLM model, returns brochure\n",
    "view = gr.Interface(\n",
    "    fn=brochure,\n",
    "    inputs=[\n",
    "        gr.Textbox(label=\"Company name:\"),\n",
    "        gr.Textbox(label=\"Landing page URL including http:// or https://\"),\n",
    "        gr.Dropdown([\"GPT\", \"OLLAMA\"], label=\"Select model\")],\n",
    "    outputs=[gr.Markdown(label=\"Brochure:\")],\n",
    "    flagging_mode=\"never\"\n",
    ")\n",
    "view.launch()"
   ]
  },
  {
   "cell_type": "code",
   "execution_count": null,
   "id": "26060b6a-075f-4e06-8f1f-56c2fa5c0d78",
   "metadata": {},
   "outputs": [],
   "source": []
  }
 ],
 "metadata": {
  "kernelspec": {
   "display_name": "Python 3 (ipykernel)",
   "language": "python",
   "name": "python3"
  },
  "language_info": {
   "codemirror_mode": {
    "name": "ipython",
    "version": 3
   },
   "file_extension": ".py",
   "mimetype": "text/x-python",
   "name": "python",
   "nbconvert_exporter": "python",
   "pygments_lexer": "ipython3",
   "version": "3.11.13"
  }
 },
 "nbformat": 4,
 "nbformat_minor": 5
}
